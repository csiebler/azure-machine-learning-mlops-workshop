{
 "cells": [
  {
   "cell_type": "markdown",
   "source": [
    "# Deploy model to AKS\r\n",
    "\r\n",
    "In this example, we'll deploy a trained model to AKS. For sake of simplicty, we'll use a sample model."
   ],
   "metadata": {}
  },
  {
   "cell_type": "code",
   "execution_count": null,
   "source": [
    "!pip install azureml-sdk --upgrade\r\n",
    "!pip install requests --upgrade"
   ],
   "outputs": [],
   "metadata": {
    "tags": []
   }
  },
  {
   "cell_type": "code",
   "execution_count": null,
   "source": [
    "import os\r\n",
    "import azureml.core\r\n",
    "from azureml.core import Workspace, Experiment, RunConfiguration, Environment\r\n",
    "from azureml.core.compute import AksCompute, ComputeTarget\r\n",
    "from azureml.core.webservice import Webservice, AksWebservice\r\n",
    "from azureml.core.model import Model\r\n",
    "from azureml.core.model import InferenceConfig\r\n",
    "from azureml.exceptions import ComputeTargetException\r\n",
    "\r\n",
    "print(\"Azure ML SDK version:\", azureml.core.VERSION)"
   ],
   "outputs": [],
   "metadata": {
    "tags": []
   }
  },
  {
   "cell_type": "markdown",
   "source": [
    "First, we will connect to the workspace. The command `Workspace.from_config()` will either:\r\n",
    "* Read the local `config.json` with the workspace reference (given it is there) or\r\n",
    "* Use the `az` CLI to connect to the workspace and use the workspace attached to via `az ml folder attach -g <resource group> -w <workspace name>`"
   ],
   "metadata": {}
  },
  {
   "cell_type": "code",
   "execution_count": null,
   "source": [
    "ws = Workspace.from_config()\r\n",
    "print(f'WS name: {ws.name}\\nRegion: {ws.location}\\nSubscription id: {ws.subscription_id}\\nResource group: {ws.resource_group}')"
   ],
   "outputs": [],
   "metadata": {
    "tags": []
   }
  },
  {
   "cell_type": "markdown",
   "source": [
    "# Preparation\r\n",
    "\r\n",
    "Our model will be executed in an AzureML Enviromnent. We could re-use the training environment, however, if you look at the `conda.yml` in this repo, you'll see that we added a few inference-specific dependencies:"
   ],
   "metadata": {}
  },
  {
   "cell_type": "code",
   "execution_count": null,
   "source": [
    "env = Environment.from_conda_specification(name='credit-model-demo-environment', file_path='conda.yml')\r\n",
    "env.register(workspace=ws)"
   ],
   "outputs": [],
   "metadata": {}
  },
  {
   "cell_type": "markdown",
   "source": [
    "We can directly build the environment - this will create a new Docker image in Azure Container Registry (ACR), and directly 'bake in' our dependencies from the conda definition. When we later use the Environment, all AML will need to do is pull the image for environment, thus saving the time for potentially a long-running conda environment creation."
   ],
   "metadata": {}
  },
  {
   "cell_type": "code",
   "execution_count": null,
   "source": [
    "build = env.build(workspace=ws)\r\n",
    "build.wait_for_completion(show_output=True)"
   ],
   "outputs": [],
   "metadata": {}
  },
  {
   "cell_type": "markdown",
   "source": [
    "Next, let's register our sample model for deployment:"
   ],
   "metadata": {}
  },
  {
   "cell_type": "code",
   "execution_count": null,
   "source": [
    "Model.register(model_path='model.pkl', model_name='credit-model-demo', workspace=ws)\r\n",
    "model = Model(ws, 'credit-model-demo')"
   ],
   "outputs": [],
   "metadata": {}
  },
  {
   "cell_type": "markdown",
   "source": [
    "Lastly, we'll need an AKS cluster to deploy to:"
   ],
   "metadata": {}
  },
  {
   "cell_type": "code",
   "execution_count": null,
   "source": [
    "cluster_name = 'aks-demo'\r\n",
    "\r\n",
    "try:\r\n",
    "    aks_target = ComputeTarget(workspace=ws, name=cluster_name)\r\n",
    "    \r\n",
    "except ComputeTargetException:\r\n",
    "    \r\n",
    "    cluster_config = {\r\n",
    "        'cluster_purpose': AksCompute.ClusterPurpose.DEV_TEST,\r\n",
    "        'agent_count': 1\r\n",
    "    }\r\n",
    "    aks_target = ComputeTarget.create(workspace=ws,\r\n",
    "                                      name=cluster_name,\r\n",
    "                                      provisioning_configuration=AksCompute.provisioning_configuration(**cluster_config))\r\n",
    "    aks_target.wait_for_completion(show_output = True)"
   ],
   "outputs": [],
   "metadata": {}
  },
  {
   "cell_type": "markdown",
   "source": [
    "Lastly, we can kick off the model deployment:"
   ],
   "metadata": {}
  },
  {
   "cell_type": "code",
   "execution_count": null,
   "source": [
    "deployment_name = 'demo-model-deployment-aks'\r\n",
    "\r\n",
    "inf_config = InferenceConfig(entry_script='score.py',\r\n",
    "                             source_directory='./',\r\n",
    "                             environment=env)\r\n",
    "\r\n",
    "# Full definition see https://docs.microsoft.com/en-us/python/api/azureml-core/azureml.core.webservice.akswebservice?view=azure-ml-py\r\n",
    "aks_config = {\r\n",
    "    'enable_app_insights': True,\r\n",
    "    'collect_model_data': True,\r\n",
    "    'token_auth_enabled': False,\r\n",
    "    'auth_enabled': True,\r\n",
    "    'cpu_cores': 1.0,\r\n",
    "    'memory_gb': 0.5,\r\n",
    "    'autoscale_enabled': True,\r\n",
    "    'autoscale_min_replicas': 1,\r\n",
    "    'autoscale_max_replicas': 2,\r\n",
    "    'autoscale_refresh_seconds': 10,\r\n",
    "    'autoscale_target_utilization': 70\r\n",
    "}\r\n",
    "\r\n",
    "aks_service = Model.deploy(workspace=ws,\r\n",
    "                           name=deployment_name,\r\n",
    "                           models=[model],\r\n",
    "                           inference_config=inf_config,\r\n",
    "                           deployment_config=AksWebservice.deploy_configuration(**aks_config),\r\n",
    "                           deployment_target=aks_target,\r\n",
    "                           overwrite=True)\r\n",
    "\r\n",
    "aks_service.wait_for_deployment(show_output = True)"
   ],
   "outputs": [],
   "metadata": {
    "tags": []
   }
  },
  {
   "cell_type": "code",
   "execution_count": null,
   "source": [
    "url = aks_service.scoring_uri\r\n",
    "key = aks_service.get_keys()[0]\r\n",
    "\r\n",
    "print(f\"URL: {url}\\nKey: {key}\")"
   ],
   "outputs": [],
   "metadata": {}
  },
  {
   "cell_type": "code",
   "execution_count": null,
   "source": [
    "import requests\r\n",
    "\r\n",
    "# url = 'http://xxxxx:80/api/v1/service/credit-model-demo/score'\r\n",
    "# key = 'xxxxx'\r\n",
    "\r\n",
    "test_data = {\r\n",
    "  \"data\": [{\r\n",
    "    \"Age\": 20,\r\n",
    "    \"Sex\": \"male\",\r\n",
    "    \"Job\": 0,\r\n",
    "    \"Housing\": \"own\",\r\n",
    "    \"Saving accounts\": \"little\",\r\n",
    "    \"Checking account\": \"little\",\r\n",
    "    \"Credit amount\": 100,\r\n",
    "    \"Duration\": 48,\r\n",
    "    \"Purpose\": \"radio/TV\"\r\n",
    "  }]\r\n",
    "}\r\n",
    "\r\n",
    "headers = {'Content-Type': 'application/json',\r\n",
    "           'Authorization': f'Bearer {key}'}\r\n",
    "response = requests.post(url, json=test_data, headers=headers)\r\n",
    "\r\n",
    "print(\"Prediction (good, bad):\", response.text)"
   ],
   "outputs": [],
   "metadata": {}
  }
 ],
 "metadata": {
  "interpreter": {
   "hash": "9c289faa3097d4ac9289519def538503f3010d283412eb21807c4abc0fc245ea"
  },
  "kernelspec": {
   "display_name": "Python 3.8.10 64-bit ('azureml11': conda)",
   "name": "python3"
  },
  "language_info": {
   "name": "python",
   "version": ""
  },
  "orig_nbformat": 2
 },
 "nbformat": 4,
 "nbformat_minor": 2
}
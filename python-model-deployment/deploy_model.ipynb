{
 "cells": [
  {
   "cell_type": "markdown",
   "metadata": {},
   "source": [
    "# Deploy model to AKS\n",
    "\n",
    "In this example, we'll deploy a trained model to AKS. For sake of simplicty, we'll use a sample model. We'll enable authentication, automatic Swagger-interface creation, Application Insights monitoring and model data collection."
   ]
  },
  {
   "cell_type": "code",
   "execution_count": null,
   "metadata": {
    "tags": []
   },
   "outputs": [],
   "source": [
    "!pip install azureml-sdk --upgrade\n",
    "!pip install requests --upgrade"
   ]
  },
  {
   "cell_type": "code",
   "execution_count": null,
   "metadata": {
    "tags": []
   },
   "outputs": [],
   "source": [
    "import os\n",
    "import azureml.core\n",
    "from azureml.core import Workspace, Environment\n",
    "from azureml.core.compute import AksCompute, ComputeTarget\n",
    "from azureml.core.webservice import Webservice, AksWebservice\n",
    "from azureml.core.model import Model, InferenceConfig\n",
    "from azureml.exceptions import ComputeTargetException\n",
    "\n",
    "print(\"Azure ML SDK version:\", azureml.core.VERSION)"
   ]
  },
  {
   "cell_type": "markdown",
   "metadata": {},
   "source": [
    "First, we will connect to the workspace. The command `Workspace.from_config()` will either:\n",
    "* Read the local `config.json` with the workspace reference (given it is there) or\n",
    "* Use the `az` CLI to connect to the workspace and use the workspace attached to via `az ml folder attach -g <resource group> -w <workspace name>`"
   ]
  },
  {
   "cell_type": "code",
   "execution_count": null,
   "metadata": {
    "tags": []
   },
   "outputs": [],
   "source": [
    "ws = Workspace.from_config()\n",
    "print(f'WS name: {ws.name}\\nRegion: {ws.location}\\nSubscription id: {ws.subscription_id}\\nResource group: {ws.resource_group}')"
   ]
  },
  {
   "cell_type": "markdown",
   "metadata": {},
   "source": [
    "# Preparation\n",
    "\n",
    "Our model will be executed in an AzureML Enviromnent. We could re-use the training environment, however, if you look at the `conda.yml` in this repo, you'll see that we added a few inference-specific dependencies:"
   ]
  },
  {
   "cell_type": "code",
   "execution_count": null,
   "metadata": {},
   "outputs": [],
   "source": [
    "env = Environment.from_conda_specification(name='credit-model-demo-environment', file_path='conda.yml')\n",
    "env.register(workspace=ws)"
   ]
  },
  {
   "cell_type": "markdown",
   "metadata": {},
   "source": [
    "We can directly build the environment - this will create a new Docker image in Azure Container Registry (ACR), and directly 'bake in' our dependencies from the conda definition. When we later use the Environment, all AML will need to do is pull the image for environment, thus saving the time for potentially a long-running conda environment creation."
   ]
  },
  {
   "cell_type": "code",
   "execution_count": null,
   "metadata": {},
   "outputs": [],
   "source": [
    "build = env.build(workspace=ws)\n",
    "build.wait_for_completion(show_output=True)"
   ]
  },
  {
   "cell_type": "markdown",
   "metadata": {},
   "source": [
    "Next, let's register our sample model for deployment:"
   ]
  },
  {
   "cell_type": "code",
   "execution_count": null,
   "metadata": {},
   "outputs": [],
   "source": [
    "Model.register(model_path='model.pkl', model_name='credit-model-demo', workspace=ws)\n",
    "model = Model(ws, 'credit-model-demo')"
   ]
  },
  {
   "cell_type": "markdown",
   "metadata": {},
   "source": [
    "# AKS Cluster Creation\n",
    "\n",
    "For sake of our tutorial, we'll create a small `DevTest` cluster (takes ~5 minutes). However, for real production workloads do not use flag. In many cases, you would create a cluster externally and then attach it to AzureML. If you want to provision your AKS cluster via the AzureML SDK, follow [this link](https://docs.microsoft.com/en-us/azure/machine-learning/how-to-create-attach-kubernetes?tabs=python) for more details (VNET integration, private load balancer, etc.)."
   ]
  },
  {
   "cell_type": "code",
   "execution_count": null,
   "metadata": {},
   "outputs": [],
   "source": [
    "cluster_name = 'aks-workshop'\n",
    "\n",
    "try:\n",
    "    aks_target = ComputeTarget(workspace=ws, name=cluster_name)\n",
    "except ComputeTargetException:\n",
    "    \n",
    "    cluster_config = {\n",
    "        'cluster_purpose': AksCompute.ClusterPurpose.DEV_TEST,\n",
    "        'agent_count': 1\n",
    "    }\n",
    "    aks_target = ComputeTarget.create(workspace=ws,\n",
    "                                      name=cluster_name,\n",
    "                                      provisioning_configuration=AksCompute.provisioning_configuration(**cluster_config))\n",
    "    aks_target.wait_for_completion(show_output = True)"
   ]
  },
  {
   "cell_type": "markdown",
   "metadata": {},
   "source": [
    "Lastly, we can kick off the model deployment:"
   ]
  },
  {
   "cell_type": "code",
   "execution_count": null,
   "metadata": {
    "tags": []
   },
   "outputs": [],
   "source": [
    "deployment_name = 'demo-model-deployment-aks'\n",
    "\n",
    "environment = Environment.get(workspace=ws, name='credit-model-demo-environment')\n",
    "inf_config = InferenceConfig(entry_script='score.py',\n",
    "                             source_directory='./',\n",
    "                             environment=environment)\n",
    "\n",
    "# Full definition see https://docs.microsoft.com/en-us/python/api/azureml-core/azureml.core.webservice.akswebservice?view=azure-ml-py\n",
    "deployment_config = {\n",
    "    'enable_app_insights': True,\n",
    "    'collect_model_data': True,\n",
    "    'token_auth_enabled': False,\n",
    "    'auth_enabled': True,\n",
    "    'cpu_cores': 1.0,\n",
    "    'memory_gb': 0.5,\n",
    "    'autoscale_enabled': True,\n",
    "    'autoscale_min_replicas': 1,\n",
    "    'autoscale_max_replicas': 2,\n",
    "    'autoscale_refresh_seconds': 10,\n",
    "    'autoscale_target_utilization': 70\n",
    "}\n",
    "\n",
    "aks_service = Model.deploy(workspace=ws,\n",
    "                           name=deployment_name,\n",
    "                           models=[model],\n",
    "                           inference_config=inf_config,\n",
    "                           deployment_config=AksWebservice.deploy_configuration(**deployment_config),\n",
    "                           deployment_target=aks_target,\n",
    "                           overwrite=True)\n",
    "\n",
    "aks_service.wait_for_deployment(show_output = True)"
   ]
  },
  {
   "cell_type": "markdown",
   "metadata": {},
   "source": [
    "Let's print out some important fields from the model service:"
   ]
  },
  {
   "cell_type": "code",
   "execution_count": null,
   "metadata": {},
   "outputs": [],
   "source": [
    "print(f\"Service state: {aks_service.state}\")\n",
    "print(f\"Service URL: {aks_service.scoring_uri}\")\n",
    "print(f\"Service Swagger URL: {aks_service.swagger_uri}\")"
   ]
  },
  {
   "cell_type": "markdown",
   "metadata": {},
   "source": [
    "# Test Model\n",
    "\n",
    "We can just fire a requests call again the model's endpoint URL, sending over the authentication key:"
   ]
  },
  {
   "cell_type": "code",
   "execution_count": null,
   "metadata": {},
   "outputs": [],
   "source": [
    "import requests\n",
    "\n",
    "url = aks_service.scoring_uri\n",
    "key = aks_service.get_keys()[0]\n",
    "\n",
    "test_data = {\n",
    "  \"data\": [{\n",
    "    \"Age\": 20,\n",
    "    \"Sex\": \"male\",\n",
    "    \"Job\": 0,\n",
    "    \"Housing\": \"own\",\n",
    "    \"Saving accounts\": \"little\",\n",
    "    \"Checking account\": \"little\",\n",
    "    \"Credit amount\": 100,\n",
    "    \"Duration\": 48,\n",
    "    \"Purpose\": \"radio/TV\"\n",
    "  }]\n",
    "}\n",
    "\n",
    "headers = {'Content-Type': 'application/json',\n",
    "           'Authorization': f'Bearer {key}'}\n",
    "response = requests.post(url, json=test_data, headers=headers)\n",
    "\n",
    "print(\"Prediction (good, bad):\", response.text)"
   ]
  }
 ],
 "metadata": {
  "interpreter": {
   "hash": "9c289faa3097d4ac9289519def538503f3010d283412eb21807c4abc0fc245ea"
  },
  "kernelspec": {
   "display_name": "Python 3.8.10 64-bit ('azureml11': conda)",
   "name": "python3"
  },
  "language_info": {
   "codemirror_mode": {
    "name": "ipython",
    "version": 3
   },
   "file_extension": ".py",
   "mimetype": "text/x-python",
   "name": "python",
   "nbconvert_exporter": "python",
   "pygments_lexer": "ipython3",
   "version": "3.8.10"
  },
  "orig_nbformat": 2
 },
 "nbformat": 4,
 "nbformat_minor": 2
}

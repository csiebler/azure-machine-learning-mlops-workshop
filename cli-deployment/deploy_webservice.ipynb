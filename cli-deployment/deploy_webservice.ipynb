{
 "cells": [
  {
   "cell_type": "markdown",
   "metadata": {},
   "source": [
    "# Deployment to AKS\n",
    "\n",
    "In this example, we'll deploy an already trained model to Azure Kubernetes Service (AKS). We'll enable authentication, automatic Swagger-interface creation, Application Insights monitoring and model data collection."
   ]
  },
  {
   "cell_type": "code",
   "execution_count": null,
   "metadata": {
    "tags": []
   },
   "outputs": [],
   "source": [
    "!pip install azureml-sdk --upgrade"
   ]
  },
  {
   "cell_type": "code",
   "execution_count": null,
   "metadata": {
    "tags": []
   },
   "outputs": [],
   "source": [
    "import os\n",
    "import azureml.core\n",
    "\n",
    "from azureml.core import Workspace, Environment\n",
    "from azureml.core.webservice import AksWebservice, Webservice\n",
    "from azureml.core.model import Model, InferenceConfig\n",
    "from azureml.core.compute import AksCompute\n",
    "\n",
    "\n",
    "print(\"Azure ML SDK version:\", azureml.core.VERSION)"
   ]
  },
  {
   "cell_type": "code",
   "execution_count": null,
   "metadata": {
    "tags": []
   },
   "outputs": [],
   "source": [
    "ws = Workspace.from_config()\n",
    "print(f'WS name: {ws.name}\\nRegion: {ws.location}\\nSubscription id: {ws.subscription_id}\\nResource group: {ws.resource_group}')"
   ]
  },
  {
   "cell_type": "markdown",
   "metadata": {},
   "source": [
    "First, let's register an already trained model. Details on how to train a model in AzureML can be found in the other examples in this repo."
   ]
  },
  {
   "cell_type": "code",
   "execution_count": null,
   "metadata": {},
   "outputs": [],
   "source": [
    "model = Model.register(model_path=\"model.pkl\",\n",
    "                       model_name=\"demo_model_for_aks_deployment\",\n",
    "                       description=\"Demo model for showcasing AKS deployment\",\n",
    "                       workspace=ws)"
   ]
  },
  {
   "cell_type": "markdown",
   "metadata": {},
   "source": [
    "# AKS Cluster Creation\n",
    "\n",
    "For sake of our tutorial, we'll create a small `DevTest` cluster (takes ~5 minutes). However, for real production workloads do not use flag. In many cases, you would create a cluster externally and then attach it to AzureML. If you want to provision your AKS cluster via the AzureML SDK, follow [this link](https://docs.microsoft.com/en-us/azure/machine-learning/how-to-create-attach-kubernetes?tabs=python) for more details (VNET integration, private load balancer, etc.)."
   ]
  },
  {
   "cell_type": "code",
   "execution_count": null,
   "metadata": {},
   "outputs": [],
   "source": [
    "from azureml.core.compute import AksCompute, ComputeTarget\n",
    "\n",
    "prov_config = AksCompute.provisioning_configuration(cluster_purpose = AksCompute.ClusterPurpose.DEV_TEST)\n",
    "aks_target = ComputeTarget.create(workspace = ws,\n",
    "                                  name = 'aks-workshop',\n",
    "                                  provisioning_configuration = prov_config)\n",
    "\n",
    "aks_target.wait_for_completion(show_output = True)"
   ]
  },
  {
   "cell_type": "markdown",
   "metadata": {},
   "source": [
    "# Deploy model"
   ]
  },
  {
   "cell_type": "markdown",
   "metadata": {},
   "source": [
    "First, we need to tell AzureML which libraries are required for our model. In this case, we just create a new enviroment which we want to use for deployment:"
   ]
  },
  {
   "cell_type": "code",
   "execution_count": null,
   "metadata": {},
   "outputs": [],
   "source": [
    "env = Environment.from_conda_specification(name='deployment-env', file_path='config/conda.yml')\n",
    "env.register(workspace=ws)\n",
    "build = env.build(workspace=ws)\n",
    "build.wait_for_completion(show_output=True)"
   ]
  },
  {
   "cell_type": "markdown",
   "metadata": {},
   "source": [
    "Next, we can create the `InferenceConfig`, which describes which code we want to use for deployment, which libraries we need, and if there are any special runtimes required to optimize our model."
   ]
  },
  {
   "cell_type": "code",
   "execution_count": null,
   "metadata": {},
   "outputs": [],
   "source": [
    "environment = Environment.get(workspace=ws, name='deployment-env')\n",
    "inference_config = InferenceConfig(source_directory='./',\n",
    "                                   entry_script='score.py',\n",
    "                                   environment=environment)"
   ]
  },
  {
   "cell_type": "markdown",
   "metadata": {},
   "source": [
    "Lastly, we can deploy the model:"
   ]
  },
  {
   "cell_type": "code",
   "execution_count": null,
   "metadata": {},
   "outputs": [],
   "source": [
    "aks_target = AksCompute(ws, \"aks-workshop\")\n",
    "\n",
    "model = Model(ws, 'demo_model_for_aks_deployment')\n",
    "\n",
    "deployment_config = AksWebservice.deploy_configuration(\n",
    "                                    cpu_cores = 1,\n",
    "                                    memory_gb = 1,\n",
    "                                    auth_enabled=True,\n",
    "                                    enable_app_insights=True,\n",
    "                                    collect_model_data=True)\n",
    "service = Model.deploy(ws, \"myservice\", [model], inference_config, deployment_config, aks_target)\n",
    "service.wait_for_deployment(show_output = True)\n",
    "print(service.state)\n",
    "print(service.get_logs())"
   ]
  },
  {
   "cell_type": "markdown",
   "metadata": {},
   "source": [
    "Let's print out some important fields from the model service:"
   ]
  },
  {
   "cell_type": "code",
   "execution_count": null,
   "metadata": {},
   "outputs": [],
   "source": [
    "print(f\"Service state: {service.state}\")\n",
    "print(f\"Service URL: {service.scoring_uri}\")\n",
    "print(f\"Service Swagger URL: {service.swagger_uri}\")"
   ]
  },
  {
   "cell_type": "markdown",
   "metadata": {},
   "source": [
    "# Test Model\n",
    "\n",
    "We can just fire a requests call again the model's endpoint URL, sending over the authentication key:"
   ]
  },
  {
   "cell_type": "code",
   "execution_count": null,
   "metadata": {},
   "outputs": [],
   "source": [
    "import requests\n",
    "\n",
    "url = service.scoring_uri\n",
    "key1 = service.get_keys()[0]\n",
    "\n",
    "test_data = {\n",
    "  'data': [{\n",
    "    \"Age\": 20,\n",
    "    \"Sex\": \"male\",\n",
    "    \"Job\": 0,\n",
    "    \"Housing\": \"own\",\n",
    "    \"Saving accounts\": \"little\",\n",
    "    \"Checking account\": \"little\",\n",
    "    \"Credit amount\": 100,\n",
    "    \"Duration\": 48,\n",
    "    \"Purpose\": \"radio/TV\"\n",
    "  }]\n",
    "}\n",
    "\n",
    "headers = {'Content-Type': 'application/json',\n",
    "           'Authorization': 'Bearer ' + key1}\n",
    "response = requests.post(url, json=test_data, headers=headers)\n",
    "\n",
    "print(\"Prediction (good, bad):\", response.text)"
   ]
  }
 ],
 "metadata": {
  "interpreter": {
   "hash": "9c289faa3097d4ac9289519def538503f3010d283412eb21807c4abc0fc245ea"
  },
  "kernelspec": {
   "display_name": "Python 3.8.10 64-bit ('azureml11': conda)",
   "name": "python3"
  },
  "language_info": {
   "codemirror_mode": {
    "name": "ipython",
    "version": 3
   },
   "file_extension": ".py",
   "mimetype": "text/x-python",
   "name": "python",
   "nbconvert_exporter": "python",
   "pygments_lexer": "ipython3",
   "version": "3.8.10"
  },
  "orig_nbformat": 2
 },
 "nbformat": 4,
 "nbformat_minor": 2
}
